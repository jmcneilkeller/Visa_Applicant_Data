{
 "cells": [
  {
   "cell_type": "markdown",
   "metadata": {},
   "source": [
    "### HO 3:\n",
    "\n",
    "There is no difference in certification rates between US ECONOMIC STEM SECTORS and NON_STEM SECTORS.\n",
    "\n",
    "\n",
    "### HA 3: \n",
    "\n",
    "There is a difference in certification rates between US ECONOMIC STEM SECTORS and NON_STEM SECTORS.\n",
    "\n"
   ]
  },
  {
   "cell_type": "markdown",
   "metadata": {},
   "source": [
    "### METHODOLOGY\n",
    "\n",
    "-Tested Chi2 on two individual industries.\n",
    "\n",
    "-Grouped together STEM SECTORS and NON-STEM SECTORS.\n",
    "\n",
    "-Took the certified and denied applicant counts for each group and created a two-dimensional array. \n",
    "\n",
    "-Ran Chi2 test on certified and denied applicant two dimensional array. \n"
   ]
  },
  {
   "cell_type": "code",
   "execution_count": 55,
   "metadata": {},
   "outputs": [],
   "source": [
    "import pandas as pd\n",
    "import numpy as np\n",
    "import statsmodels.api as sm\n",
    "from statsmodels.formula.api import ols\n",
    "import scipy.stats as stats\n",
    "from scipy.stats import chi2\n",
    "import matplotlib.pyplot as plt\n"
   ]
  },
  {
   "cell_type": "code",
   "execution_count": 56,
   "metadata": {
    "scrolled": true
   },
   "outputs": [],
   "source": [
    "df = pd.read_csv('visa_clean.csv')"
   ]
  },
  {
   "cell_type": "code",
   "execution_count": 57,
   "metadata": {},
   "outputs": [
    {
     "data": {
      "text/html": [
       "<div>\n",
       "<style scoped>\n",
       "    .dataframe tbody tr th:only-of-type {\n",
       "        vertical-align: middle;\n",
       "    }\n",
       "\n",
       "    .dataframe tbody tr th {\n",
       "        vertical-align: top;\n",
       "    }\n",
       "\n",
       "    .dataframe thead th {\n",
       "        text-align: right;\n",
       "    }\n",
       "</style>\n",
       "<table border=\"1\" class=\"dataframe\">\n",
       "  <thead>\n",
       "    <tr style=\"text-align: right;\">\n",
       "      <th></th>\n",
       "      <th>Unnamed: 0</th>\n",
       "      <th>application_type</th>\n",
       "      <th>case_received_date</th>\n",
       "      <th>case_status</th>\n",
       "      <th>class_of_admission</th>\n",
       "      <th>decision_date</th>\n",
       "      <th>employer_city</th>\n",
       "      <th>employer_name</th>\n",
       "      <th>employer_num_employees</th>\n",
       "      <th>employer_state</th>\n",
       "      <th>...</th>\n",
       "      <th>foreign_worker_birth_country</th>\n",
       "      <th>foreign_worker_edu_other</th>\n",
       "      <th>foreign_worker_rel_occ_exp</th>\n",
       "      <th>foreign_worker_req_exp</th>\n",
       "      <th>naics_num</th>\n",
       "      <th>naics_title</th>\n",
       "      <th>wage_offer_from</th>\n",
       "      <th>wage_offer_to</th>\n",
       "      <th>wage_unit_of_pay_offer</th>\n",
       "      <th>pw_job_title</th>\n",
       "    </tr>\n",
       "  </thead>\n",
       "  <tbody>\n",
       "    <tr>\n",
       "      <th>0</th>\n",
       "      <td>0</td>\n",
       "      <td>PERM</td>\n",
       "      <td>NaN</td>\n",
       "      <td>Certified</td>\n",
       "      <td>J-1</td>\n",
       "      <td>2012-02-01</td>\n",
       "      <td>NEW YORK</td>\n",
       "      <td>NETSOFT USA INC.</td>\n",
       "      <td>NaN</td>\n",
       "      <td>NY</td>\n",
       "      <td>...</td>\n",
       "      <td>NaN</td>\n",
       "      <td>NaN</td>\n",
       "      <td>NaN</td>\n",
       "      <td>NaN</td>\n",
       "      <td>541512</td>\n",
       "      <td>COMPUTER SYSTEMS DESIGN SERVICES</td>\n",
       "      <td>75629</td>\n",
       "      <td>NaN</td>\n",
       "      <td>Year</td>\n",
       "      <td>COMPUTER SOFTWARE ENGINEERS, APPLICATIONS</td>\n",
       "    </tr>\n",
       "    <tr>\n",
       "      <th>1</th>\n",
       "      <td>1</td>\n",
       "      <td>PERM</td>\n",
       "      <td>NaN</td>\n",
       "      <td>Denied</td>\n",
       "      <td>B-2</td>\n",
       "      <td>2011-12-21</td>\n",
       "      <td>CARLSTADT</td>\n",
       "      <td>PINNACLE ENVIRONEMNTAL CORP</td>\n",
       "      <td>NaN</td>\n",
       "      <td>NY</td>\n",
       "      <td>...</td>\n",
       "      <td>NaN</td>\n",
       "      <td>NaN</td>\n",
       "      <td>NaN</td>\n",
       "      <td>NaN</td>\n",
       "      <td>562211</td>\n",
       "      <td>HAZARDOUS WASTE TREATMENT AND DISPOSAL</td>\n",
       "      <td>37024</td>\n",
       "      <td>NaN</td>\n",
       "      <td>Year</td>\n",
       "      <td>ASBESTOS HANDLER</td>\n",
       "    </tr>\n",
       "  </tbody>\n",
       "</table>\n",
       "<p>2 rows × 32 columns</p>\n",
       "</div>"
      ],
      "text/plain": [
       "   Unnamed: 0 application_type case_received_date case_status  \\\n",
       "0           0             PERM                NaN   Certified   \n",
       "1           1             PERM                NaN      Denied   \n",
       "\n",
       "  class_of_admission decision_date employer_city                employer_name  \\\n",
       "0                J-1    2012-02-01      NEW YORK             NETSOFT USA INC.   \n",
       "1                B-2    2011-12-21     CARLSTADT  PINNACLE ENVIRONEMNTAL CORP   \n",
       "\n",
       "   employer_num_employees employer_state  ... foreign_worker_birth_country  \\\n",
       "0                     NaN             NY  ...                          NaN   \n",
       "1                     NaN             NY  ...                          NaN   \n",
       "\n",
       "  foreign_worker_edu_other foreign_worker_rel_occ_exp foreign_worker_req_exp  \\\n",
       "0                      NaN                        NaN                    NaN   \n",
       "1                      NaN                        NaN                    NaN   \n",
       "\n",
       "  naics_num                             naics_title wage_offer_from  \\\n",
       "0    541512        COMPUTER SYSTEMS DESIGN SERVICES           75629   \n",
       "1    562211  HAZARDOUS WASTE TREATMENT AND DISPOSAL           37024   \n",
       "\n",
       "  wage_offer_to wage_unit_of_pay_offer  \\\n",
       "0           NaN                   Year   \n",
       "1           NaN                   Year   \n",
       "\n",
       "                                pw_job_title  \n",
       "0  COMPUTER SOFTWARE ENGINEERS, APPLICATIONS  \n",
       "1                           ASBESTOS HANDLER  \n",
       "\n",
       "[2 rows x 32 columns]"
      ]
     },
     "execution_count": 57,
     "metadata": {},
     "output_type": "execute_result"
    }
   ],
   "source": [
    "df.head(2)"
   ]
  },
  {
   "cell_type": "code",
   "execution_count": 58,
   "metadata": {},
   "outputs": [],
   "source": [
    "df.drop(columns=['Unnamed: 0'], inplace=True)"
   ]
  },
  {
   "cell_type": "code",
   "execution_count": 59,
   "metadata": {},
   "outputs": [
    {
     "name": "stdout",
     "output_type": "stream",
     "text": [
      "<class 'pandas.core.frame.DataFrame'>\n",
      "RangeIndex: 374362 entries, 0 to 374361\n",
      "Data columns (total 31 columns):\n",
      "application_type                 135269 non-null object\n",
      "case_received_date               239091 non-null object\n",
      "case_status                      374362 non-null object\n",
      "class_of_admission               351517 non-null object\n",
      "decision_date                    374362 non-null object\n",
      "employer_city                    374348 non-null object\n",
      "employer_name                    374350 non-null object\n",
      "employer_num_employees           239013 non-null float64\n",
      "employer_state                   374320 non-null object\n",
      "foreign_worker_info_city         239065 non-null object\n",
      "foreign_worker_info_education    239053 non-null object\n",
      "foreign_worker_info_state        221898 non-null object\n",
      "pw_amount_9089                   372146 non-null object\n",
      "pw_level_9089                    346735 non-null object\n",
      "pw_soc_code                      373965 non-null object\n",
      "pw_soc_title                     372026 non-null object\n",
      "refile                           118079 non-null object\n",
      "us_economic_sector               129068 non-null object\n",
      "citizenship                      374303 non-null object\n",
      "case_num                         374362 non-null object\n",
      "foreign_work_alt_edu             239071 non-null object\n",
      "foreign_worker_birth_country     239062 non-null object\n",
      "foreign_worker_edu_other         153955 non-null object\n",
      "foreign_worker_rel_occ_exp       239076 non-null object\n",
      "foreign_worker_req_exp           239082 non-null object\n",
      "naics_num                        373379 non-null object\n",
      "naics_title                      369708 non-null object\n",
      "wage_offer_from                  374238 non-null object\n",
      "wage_offer_to                    104649 non-null object\n",
      "wage_unit_of_pay_offer           329145 non-null object\n",
      "pw_job_title                     373970 non-null object\n",
      "dtypes: float64(1), object(30)\n",
      "memory usage: 88.5+ MB\n"
     ]
    }
   ],
   "source": [
    "df.info()"
   ]
  },
  {
   "cell_type": "code",
   "execution_count": 60,
   "metadata": {},
   "outputs": [],
   "source": [
    "df1 = df[['us_economic_sector','case_status', 'class_of_admission']]"
   ]
  },
  {
   "cell_type": "code",
   "execution_count": 61,
   "metadata": {},
   "outputs": [
    {
     "name": "stderr",
     "output_type": "stream",
     "text": [
      "/anaconda3/lib/python3.7/site-packages/ipykernel_launcher.py:1: SettingWithCopyWarning: \n",
      "A value is trying to be set on a copy of a slice from a DataFrame\n",
      "\n",
      "See the caveats in the documentation: http://pandas.pydata.org/pandas-docs/stable/indexing.html#indexing-view-versus-copy\n",
      "  \"\"\"Entry point for launching an IPython kernel.\n"
     ]
    }
   ],
   "source": [
    "df1.dropna(axis=0, inplace=True)"
   ]
  },
  {
   "cell_type": "code",
   "execution_count": 62,
   "metadata": {},
   "outputs": [],
   "source": [
    "df1.case_status = df1.case_status.replace({'Certified': 1, 'Certified-Expired': 1, 'Withdrawn': 0,'Denied': 0})"
   ]
  },
  {
   "cell_type": "code",
   "execution_count": 63,
   "metadata": {},
   "outputs": [],
   "source": [
    "aero_df = df1[df1['us_economic_sector']== 'AEROSPACE']"
   ]
  },
  {
   "cell_type": "code",
   "execution_count": 64,
   "metadata": {},
   "outputs": [],
   "source": [
    "aero_cert = aero_df[aero_df['case_status'] == 1].case_status.count()"
   ]
  },
  {
   "cell_type": "code",
   "execution_count": 65,
   "metadata": {},
   "outputs": [],
   "source": [
    "aero_denied = aero_df[aero_df['case_status'] == 0].case_status.count()"
   ]
  },
  {
   "cell_type": "markdown",
   "metadata": {},
   "source": [
    "aero_cert: 3518\n",
    "\n",
    "aero_denied: 471"
   ]
  },
  {
   "cell_type": "code",
   "execution_count": 66,
   "metadata": {},
   "outputs": [],
   "source": [
    "manu_df = df1[df1['us_economic_sector']== 'ADVANCED MFG']"
   ]
  },
  {
   "cell_type": "code",
   "execution_count": 67,
   "metadata": {},
   "outputs": [],
   "source": [
    "mfg_cert = manu_df[manu_df['case_status'] == 1].case_status.count()"
   ]
  },
  {
   "cell_type": "code",
   "execution_count": 68,
   "metadata": {},
   "outputs": [],
   "source": [
    "mfg_denied = manu_df[manu_df['case_status'] == 0].case_status.count()"
   ]
  },
  {
   "cell_type": "markdown",
   "metadata": {},
   "source": [
    "mfg_cert: 16160\n",
    "\n",
    "mfg_denied: 2044\n"
   ]
  },
  {
   "cell_type": "code",
   "execution_count": 69,
   "metadata": {},
   "outputs": [],
   "source": [
    "certified = [aero_cert, mfg_cert]\n",
    "denied = [aero_denied, mfg_denied]"
   ]
  },
  {
   "cell_type": "code",
   "execution_count": 70,
   "metadata": {},
   "outputs": [
    {
     "data": {
      "text/plain": [
       "array([[ 3518, 16160],\n",
       "       [  471,  2044]])"
      ]
     },
     "execution_count": 70,
     "metadata": {},
     "output_type": "execute_result"
    }
   ],
   "source": [
    "industry_chi2 = np.array([certified, denied])\n",
    "industry_chi2"
   ]
  },
  {
   "cell_type": "code",
   "execution_count": 71,
   "metadata": {},
   "outputs": [],
   "source": [
    "chi2_stat, p_val, dof, ex = stats.chi2_contingency(industry_chi2)"
   ]
  },
  {
   "cell_type": "code",
   "execution_count": 72,
   "metadata": {
    "scrolled": true
   },
   "outputs": [
    {
     "name": "stdout",
     "output_type": "stream",
     "text": [
      "===Chi2 Stat===\n",
      "1.0354128803556033\n",
      "\n",
      "\n",
      "===Degrees of Freedom===\n",
      "1\n",
      "\n",
      "\n",
      "===P-Value===\n",
      "0.30889071962446873\n",
      "\n",
      "\n",
      "===Contingency Table===\n",
      "[[ 3536.95047988 16141.04952012]\n",
      " [  452.04952012  2062.95047988]]\n"
     ]
    }
   ],
   "source": [
    "print(\"===Chi2 Stat===\")\n",
    "print(chi2_stat)\n",
    "print(\"\\n\")\n",
    "print(\"===Degrees of Freedom===\")\n",
    "print(dof)\n",
    "print(\"\\n\")\n",
    "print(\"===P-Value===\")\n",
    "print(p_val)\n",
    "print(\"\\n\")\n",
    "print(\"===Contingency Table===\")\n",
    "print(ex)\n"
   ]
  },
  {
   "cell_type": "code",
   "execution_count": 123,
   "metadata": {},
   "outputs": [],
   "source": [
    "def visualize_chisq(chisq_stat, df, alpha):\n",
    "    # initialize a matplotlib \"figure\"\n",
    "    fig = plt.figure(figsize=(8,5))\n",
    "    # get the current \"axis\" out of the figure\n",
    "    ax = fig.gca()\n",
    "    xs = np.linspace(0, 25, 25)\n",
    "    ys = stats.chi2.pdf(xs, df)\n",
    "    ax.plot(xs, ys, 'r-', lw=5, alpha=alpha, label='chi2 pdf')\n",
    "    # plot the lines using matplotlib's plot function:\n",
    "    ax.plot(xs, ys, linewidth=3, color='darkblue')\n",
    "    # plot a vertical line for our measured difference in rates t-statistic\n",
    "    ax.axvline(chisq_stat, color='red', linestyle='--', lw=5,label='chi-sq-statistic')\n",
    "    chi_sq_crit = stats.chi2.ppf(1-alpha, df)\n",
    "    ax.plot(xs, ys, linewidth=3, color='darkblue')\n",
    "    ax.axvline(chi_sq_crit,color='green',linestyle='--',lw=4,label='crit chi-sq-value')\n",
    "    ax.fill_betweenx(ys,xs,chi_sq_crit,where = xs > chi_sq_crit)\n",
    "    \n",
    "    ax.legend()\n",
    "    plt.show()\n",
    "    return None\n",
    "\n",
    "\n"
   ]
  },
  {
   "cell_type": "code",
   "execution_count": 124,
   "metadata": {},
   "outputs": [
    {
     "data": {
      "image/png": "[encoded data removed]",
      "text/plain": [
       "<Figure size 576x360 with 1 Axes>"
      ]
     },
     "metadata": {
      "needs_background": "light"
     },
     "output_type": "display_data"
    }
   ],
   "source": [
    "visualize_chisq(1.0354128803556033, df=1, alpha=0.05)"
   ]
  },
  {
   "cell_type": "code",
   "execution_count": 107,
   "metadata": {},
   "outputs": [
    {
     "data": {
      "image/png": "[encoded data removed]",
      "text/plain": [
       "<Figure size 576x360 with 1 Axes>"
      ]
     },
     "metadata": {
      "needs_background": "light"
     },
     "output_type": "display_data"
    }
   ],
   "source": [
    "def visualize_chisq(chisq_stat, df, alpha):\n",
    "    # initialize a matplotlib \"figure\"\n",
    "    fig = plt.figure(figsize=(8,5))\n",
    "    # get the current \"axis\" out of the figure\n",
    "    ax = fig.gca()\n",
    "    xs = np.linspace(0, 25, 25)\n",
    "    ys = stats.chi2.pdf(xs, df)\n",
    "    ax.plot(xs, ys, 'r-', lw=5, alpha=alpha, label='chi2 pdf')\n",
    "    # plot the lines using matplotlib's plot function:\n",
    "    ax.plot(xs, ys, linewidth=3, color='darkblue')\n",
    "    # plot a vertical line for our measured difference in rates t-statistic\n",
    "    ax.axvline(chisq_stat, color='red', linestyle='--', lw=5,label='chi-sq-statistic')\n",
    "    chi_sq_crit = stats.chi2.ppf(1-alpha, df)\n",
    "    ax.plot(xs, ys, linewidth=3, color='darkblue')\n",
    "    ax.axvline(chi_sq_crit,color='green',linestyle='--',lw=4,label='crit chi-sq-value')\n",
    "    ax.fill_betweenx(ys,xs,chi_sq_crit,where = xs > chi_sq_crit)\n",
    "    \n",
    "    ax.legend()\n",
    "    plt.show()\n",
    "    return None\n",
    "visualize_chisq(chi2_stat, df=1, alpha=0.05)\n",
    "\n"
   ]
  },
  {
   "cell_type": "code",
   "execution_count": 108,
   "metadata": {},
   "outputs": [
    {
     "data": {
      "text/plain": [
       "['IT',\n",
       " 'OTHER ECONOMIC SECTOR',\n",
       " 'AEROSPACE',\n",
       " 'ADVANCED MFG',\n",
       " 'EDUCATIONAL SERVICES',\n",
       " 'RETAIL',\n",
       " 'CONSTRUCTION',\n",
       " 'HOSPITALITY',\n",
       " 'HEALTH CARE',\n",
       " 'FINANCE',\n",
       " 'ENERGY',\n",
       " 'TRANSPORTATION',\n",
       " 'HOMELAND SECURITY',\n",
       " 'AUTOMOTIVE',\n",
       " 'AGRIBUSINESS',\n",
       " 'BIOTECHNOLOGY',\n",
       " 'GEOSPATIAL']"
      ]
     },
     "execution_count": 108,
     "metadata": {},
     "output_type": "execute_result"
    }
   ],
   "source": [
    "list(df1.us_economic_sector.unique())"
   ]
  },
  {
   "cell_type": "code",
   "execution_count": 109,
   "metadata": {},
   "outputs": [],
   "source": [
    "STEM = ['IT','AEROSPACE', 'ADVANCED MFG','ENERGY','BIOTECHNOLOGY','GEOSPATIAL','AGRIBUSINESS','AUTOMOTIVE']\n",
    "NON_STEM = ['EDUCATIONAL SERVICES','RETAIL','CONSTRUCTION','HOSPITALITY','HEALTH CARE','FINANCE','TRANSPORTATION']"
   ]
  },
  {
   "cell_type": "code",
   "execution_count": 110,
   "metadata": {},
   "outputs": [],
   "source": [
    "stem_df = df1[df1.us_economic_sector.isin(STEM)]"
   ]
  },
  {
   "cell_type": "code",
   "execution_count": 111,
   "metadata": {},
   "outputs": [],
   "source": [
    "stem_df = stem_df.reset_index()\n",
    "stem_df.drop(columns=['index'], inplace=True)"
   ]
  },
  {
   "cell_type": "code",
   "execution_count": 112,
   "metadata": {
    "scrolled": true
   },
   "outputs": [
    {
     "data": {
      "text/html": [
       "<div>\n",
       "<style scoped>\n",
       "    .dataframe tbody tr th:only-of-type {\n",
       "        vertical-align: middle;\n",
       "    }\n",
       "\n",
       "    .dataframe tbody tr th {\n",
       "        vertical-align: top;\n",
       "    }\n",
       "\n",
       "    .dataframe thead th {\n",
       "        text-align: right;\n",
       "    }\n",
       "</style>\n",
       "<table border=\"1\" class=\"dataframe\">\n",
       "  <thead>\n",
       "    <tr style=\"text-align: right;\">\n",
       "      <th></th>\n",
       "      <th>us_economic_sector</th>\n",
       "      <th>case_status</th>\n",
       "      <th>class_of_admission</th>\n",
       "    </tr>\n",
       "  </thead>\n",
       "  <tbody>\n",
       "    <tr>\n",
       "      <th>0</th>\n",
       "      <td>IT</td>\n",
       "      <td>1</td>\n",
       "      <td>J-1</td>\n",
       "    </tr>\n",
       "    <tr>\n",
       "      <th>1</th>\n",
       "      <td>AEROSPACE</td>\n",
       "      <td>1</td>\n",
       "      <td>H-1B</td>\n",
       "    </tr>\n",
       "    <tr>\n",
       "      <th>2</th>\n",
       "      <td>ADVANCED MFG</td>\n",
       "      <td>1</td>\n",
       "      <td>L-1</td>\n",
       "    </tr>\n",
       "    <tr>\n",
       "      <th>3</th>\n",
       "      <td>ADVANCED MFG</td>\n",
       "      <td>0</td>\n",
       "      <td>E-2</td>\n",
       "    </tr>\n",
       "    <tr>\n",
       "      <th>4</th>\n",
       "      <td>IT</td>\n",
       "      <td>1</td>\n",
       "      <td>H-1B</td>\n",
       "    </tr>\n",
       "  </tbody>\n",
       "</table>\n",
       "</div>"
      ],
      "text/plain": [
       "  us_economic_sector  case_status class_of_admission\n",
       "0                 IT            1                J-1\n",
       "1          AEROSPACE            1               H-1B\n",
       "2       ADVANCED MFG            1                L-1\n",
       "3       ADVANCED MFG            0                E-2\n",
       "4                 IT            1               H-1B"
      ]
     },
     "execution_count": 112,
     "metadata": {},
     "output_type": "execute_result"
    }
   ],
   "source": [
    "stem_df.head()"
   ]
  },
  {
   "cell_type": "code",
   "execution_count": 113,
   "metadata": {},
   "outputs": [
    {
     "data": {
      "text/plain": [
       "66052"
      ]
     },
     "execution_count": 113,
     "metadata": {},
     "output_type": "execute_result"
    }
   ],
   "source": [
    "stem_df[stem_df['case_status'] == 1].case_status.count()"
   ]
  },
  {
   "cell_type": "code",
   "execution_count": 114,
   "metadata": {},
   "outputs": [
    {
     "data": {
      "text/plain": [
       "10028"
      ]
     },
     "execution_count": 114,
     "metadata": {},
     "output_type": "execute_result"
    }
   ],
   "source": [
    "stem_df[stem_df['case_status'] == 0].case_status.count()"
   ]
  },
  {
   "cell_type": "code",
   "execution_count": 115,
   "metadata": {},
   "outputs": [],
   "source": [
    "non_stem_df = df1[df1.us_economic_sector.isin(NON_STEM)]"
   ]
  },
  {
   "cell_type": "code",
   "execution_count": 116,
   "metadata": {},
   "outputs": [
    {
     "data": {
      "text/plain": [
       "27414"
      ]
     },
     "execution_count": 116,
     "metadata": {},
     "output_type": "execute_result"
    }
   ],
   "source": [
    "non_stem_df[non_stem_df['case_status'] == 1].case_status.count()"
   ]
  },
  {
   "cell_type": "code",
   "execution_count": 117,
   "metadata": {},
   "outputs": [
    {
     "data": {
      "text/plain": [
       "4564"
      ]
     },
     "execution_count": 117,
     "metadata": {},
     "output_type": "execute_result"
    }
   ],
   "source": [
    "non_stem_df[non_stem_df['case_status'] == 0].case_status.count()"
   ]
  },
  {
   "cell_type": "code",
   "execution_count": 118,
   "metadata": {},
   "outputs": [],
   "source": [
    "certified = [66052, 27414]\n",
    "denied = [10028, 4564]"
   ]
  },
  {
   "cell_type": "code",
   "execution_count": 119,
   "metadata": {},
   "outputs": [
    {
     "data": {
      "text/plain": [
       "array([[66052, 27414],\n",
       "       [10028,  4564]])"
      ]
     },
     "execution_count": 119,
     "metadata": {},
     "output_type": "execute_result"
    }
   ],
   "source": [
    "chi2 = np.array([certified, denied])\n",
    "chi2"
   ]
  },
  {
   "cell_type": "code",
   "execution_count": 120,
   "metadata": {},
   "outputs": [],
   "source": [
    "chi2_stat, p_val, dof, ex = stats.chi2_contingency(chi2)"
   ]
  },
  {
   "cell_type": "code",
   "execution_count": 121,
   "metadata": {},
   "outputs": [
    {
     "name": "stdout",
     "output_type": "stream",
     "text": [
      "===Chi2 Stat===\n",
      "22.86908503257289\n",
      "\n",
      "\n",
      "===Degrees of Freedom===\n",
      "1\n",
      "\n",
      "\n",
      "===P-Value===\n",
      "1.7341877760642102e-06\n",
      "\n",
      "\n",
      "===Contingency Table===\n",
      "[[65806.26404338 27659.73595662]\n",
      " [10273.73595662  4318.26404338]]\n"
     ]
    }
   ],
   "source": [
    "print(\"===Chi2 Stat===\")\n",
    "print(chi2_stat)\n",
    "print(\"\\n\")\n",
    "print(\"===Degrees of Freedom===\")\n",
    "print(dof)\n",
    "print(\"\\n\")\n",
    "print(\"===P-Value===\")\n",
    "print(p_val)\n",
    "print(\"\\n\")\n",
    "print(\"===Contingency Table===\")\n",
    "print(ex)\n"
   ]
  },
  {
   "cell_type": "code",
   "execution_count": 126,
   "metadata": {},
   "outputs": [
    {
     "data": {
      "image/png": "[encoded data removed]",
      "text/plain": [
       "<Figure size 576x360 with 1 Axes>"
      ]
     },
     "metadata": {
      "needs_background": "light"
     },
     "output_type": "display_data"
    }
   ],
   "source": [
    "visualize_chisq(chisq_stat=22.869085, df=1, alpha=.05)"
   ]
  },
  {
   "cell_type": "code",
   "execution_count": null,
   "metadata": {},
   "outputs": [],
   "source": []
  },
  {
   "cell_type": "code",
   "execution_count": null,
   "metadata": {},
   "outputs": [],
   "source": []
  },
  {
   "cell_type": "code",
   "execution_count": null,
   "metadata": {},
   "outputs": [],
   "source": []
  }
 ],
 "metadata": {
  "kernelspec": {
   "display_name": "Python 3",
   "language": "python",
   "name": "python3"
  },
  "language_info": {
   "codemirror_mode": {
    "name": "ipython",
    "version": 3
   },
   "file_extension": ".py",
   "mimetype": "text/x-python",
   "name": "python",
   "nbconvert_exporter": "python",
   "pygments_lexer": "ipython3",
   "version": "3.7.3"
  }
 },
 "nbformat": 4,
 "nbformat_minor": 2
}
